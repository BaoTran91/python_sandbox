{
 "cells": [
  {
   "cell_type": "markdown",
   "metadata": {},
   "source": [
    "https://runestone.academy/runestone/books/published/pythonds/BasicDS/WhatIsaDeque.html"
   ]
  },
  {
   "cell_type": "code",
   "execution_count": null,
   "metadata": {},
   "outputs": [],
   "source": [
    "A deque, also known as a double-ended queue, is an ordered collection of items similar to the queue. \n",
    "It has two ends, a front and a rear, and the items remain positioned in the collection. \n",
    "What makes a deque different is the unrestrictive nature of adding and removing items. \n",
    "New items can be added at either the front or the rear. Likewise, existing items can be removed \n",
    "from either end. In a sense, this hybrid linear structure provides all the capabilities of stacks \n",
    "and queues in a single data structure. Figure 1 shows a deque of Python data objects.\n",
    "\n",
    "It is important to note that even though the deque can assume many of the characteristics of stacks \n",
    "and queues, it does not require the LIFO and FIFO orderings that are enforced by those data \n",
    "structures. It is up to you to make consistent use of the addition and removal operations."
   ]
  },
  {
   "cell_type": "code",
   "execution_count": null,
   "metadata": {},
   "outputs": [],
   "source": []
  },
  {
   "cell_type": "code",
   "execution_count": null,
   "metadata": {},
   "outputs": [],
   "source": []
  },
  {
   "cell_type": "code",
   "execution_count": null,
   "metadata": {},
   "outputs": [],
   "source": []
  },
  {
   "cell_type": "code",
   "execution_count": null,
   "metadata": {},
   "outputs": [],
   "source": []
  },
  {
   "cell_type": "code",
   "execution_count": null,
   "metadata": {},
   "outputs": [],
   "source": []
  }
 ],
 "metadata": {
  "kernelspec": {
   "display_name": "Python 3",
   "language": "python",
   "name": "python3"
  },
  "language_info": {
   "codemirror_mode": {
    "name": "ipython",
    "version": 3
   },
   "file_extension": ".py",
   "mimetype": "text/x-python",
   "name": "python",
   "nbconvert_exporter": "python",
   "pygments_lexer": "ipython3",
   "version": "3.8.5"
  }
 },
 "nbformat": 4,
 "nbformat_minor": 4
}
