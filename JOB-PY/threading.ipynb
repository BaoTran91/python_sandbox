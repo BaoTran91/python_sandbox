{
 "cells": [
  {
   "cell_type": "code",
   "execution_count": 1,
   "metadata": {},
   "outputs": [],
   "source": [
    "import threading\n",
    "class Counter():\n",
    "    def __init__(self):\n",
    "        self.count = 0\n",
    "    def increment(self):\n",
    "        self.count += 1"
   ]
  },
  {
   "cell_type": "code",
   "execution_count": 14,
   "metadata": {},
   "outputs": [],
   "source": [
    "def worker(sensor_index, items, counter):\n",
    "    for i in range(items):\n",
    "        # Read from the sensor\n",
    "#         print(\"run # {} interval {}\".format(sensor_index, i))\n",
    "        counter.increment()"
   ]
  },
  {
   "cell_type": "code",
   "execution_count": 15,
   "metadata": {},
   "outputs": [],
   "source": [
    "def run_threads(func, items, counter):\n",
    "    threads = []\n",
    "    for i in range(5):\n",
    "        args = (i, items, counter)\n",
    "        thread = threading.Thread(target=func, args=args)\n",
    "        threads.append(thread)\n",
    "        thread.start()\n",
    "    for thread in threads:\n",
    "        thread.join()"
   ]
  },
  {
   "cell_type": "code",
   "execution_count": 16,
   "metadata": {},
   "outputs": [
    {
     "name": "stdout",
     "output_type": "stream",
     "text": [
      "Counter should be 500000, found 500000\n"
     ]
    }
   ],
   "source": [
    "items = 100000\n",
    "counter = Counter()\n",
    "# worker(5, items, counter)\n",
    "run_threads(worker, items, counter)\n",
    "print('Counter should be {}, found {}'\n",
    "          .format(5 * items, counter.count))"
   ]
  },
  {
   "cell_type": "code",
   "execution_count": null,
   "metadata": {},
   "outputs": [],
   "source": []
  }
 ],
 "metadata": {
  "kernelspec": {
   "display_name": "Python 3",
   "language": "python",
   "name": "python3"
  },
  "language_info": {
   "codemirror_mode": {
    "name": "ipython",
    "version": 3
   },
   "file_extension": ".py",
   "mimetype": "text/x-python",
   "name": "python",
   "nbconvert_exporter": "python",
   "pygments_lexer": "ipython3",
   "version": "3.8.5"
  }
 },
 "nbformat": 4,
 "nbformat_minor": 4
}
