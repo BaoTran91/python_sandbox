{
 "cells": [
  {
   "cell_type": "markdown",
   "metadata": {},
   "source": [
    "### Remove duplicates"
   ]
  },
  {
   "cell_type": "code",
   "execution_count": null,
   "metadata": {},
   "outputs": [],
   "source": [
    "from collections import OrderedDict  \n",
    "  \n",
    "def removeDupWithoutOrder(str1):  \n",
    "    # set() --> A Set is an unordered collection data type that is iterable, mutable, and has no duplicate elements.  \n",
    "    return \"\".join(set(str1))  \n",
    "  \n",
    "# and keep the order of characters same  \n",
    "def removeDupWithOrder(str1):  \n",
    "    return \"\".join(OrderedDict.fromkeys(str1)) "
   ]
  },
  {
   "cell_type": "markdown",
   "metadata": {},
   "source": [
    "### Class"
   ]
  },
  {
   "cell_type": "code",
   "execution_count": null,
   "metadata": {},
   "outputs": [],
   "source": [
    "class Node: \n",
    "    # Function to initialise the node object \n",
    "    def __init__(self, data): \n",
    "        self.data = data  # Assign data \n",
    "        self.next = None  # Initialize next as null \n",
    "#dot notation: my_car.fill_tank()"
   ]
  },
  {
   "cell_type": "markdown",
   "metadata": {},
   "source": [
    "### Contains"
   ]
  },
  {
   "cell_type": "code",
   "execution_count": null,
   "metadata": {},
   "outputs": [],
   "source": [
    "somestring=\"someblah ch\"\n",
    "if \"blah\" not in somestring: \n",
    "    print(\"check\")"
   ]
  },
  {
   "cell_type": "markdown",
   "metadata": {},
   "source": [
    "### List"
   ]
  },
  {
   "cell_type": "code",
   "execution_count": null,
   "metadata": {},
   "outputs": [],
   "source": [
    "users = ['val', 'bob', 'mia', 'ron', 'ned']\n",
    "print(users[0]) #Getting the second element\n",
    "print(users[::-1]) #backward -> first_three [:3] -> middle 3 [1:4] -> last 3 [-3:]\n",
    "print(min(users)) #min,max,sum\n",
    "users.append('amy') # & users.insert(3, 'bea')   ->   del users[-1]  &   users.remove('mia')\n",
    "print(users.pop()) # Pop the last item from a list  &  Pop the first item in a list -> first_user = users.pop(0)\n",
    "for name in users:\n",
    "    upper_names.append(name.upper())\n",
    "# users.sort()  users.sort(reverse=True)"
   ]
  },
  {
   "cell_type": "markdown",
   "metadata": {},
   "source": [
    "### Tuples"
   ]
  },
  {
   "cell_type": "code",
   "execution_count": null,
   "metadata": {},
   "outputs": [],
   "source": [
    "dimensions = (800, 600) # A tuple is like a list, except you can't change the values in a tuple once it's defined. \n",
    "for dimension in dimensions: #You can overwrite an entire tuple, but you can't change the individual elements in a tuple."
   ]
  },
  {
   "cell_type": "markdown",
   "metadata": {},
   "source": [
    "### Dictionary"
   ]
  },
  {
   "cell_type": "code",
   "execution_count": null,
   "metadata": {},
   "outputs": [],
   "source": [
    "alien_0 = {'color': 'green', 'points': 5}\n",
    "print(alien_0['color']); print(alien_0.get('points',1)); #You can also use the get() method, which returns None instead of an error if the key doesn't exist. You can also specify a default value\n",
    "#for name, langs in fav_languages.items(): #for name in fav_languages.keys():\n",
    "print(len(alien_0))    \n",
    "    "
   ]
  },
  {
   "cell_type": "code",
   "execution_count": null,
   "metadata": {},
   "outputs": [],
   "source": [
    "while current_number <= 5:\n",
    "    print(current_number)  #if; elif; else"
   ]
  },
  {
   "cell_type": "markdown",
   "metadata": {},
   "source": [
    "### Collecting an arbitrary number of arguments"
   ]
  },
  {
   "cell_type": "code",
   "execution_count": null,
   "metadata": {},
   "outputs": [],
   "source": [
    "# def make_pizza(size, *toppings):\n",
    "\n",
    "def build_profile(first, last, **user_info):\n",
    "    \"\"\"Build a user's profile dictionary.\"\"\"\n",
    "    # Build a dict with the required keys.\n",
    "    profile = {'first': first, 'last': last}\n",
    "    # Add any other keys and values.\n",
    "    for key, value in user_info.items():\n",
    "        profile[key] = value\n",
    "    return profile\n",
    "# Create two users with different kinds\n",
    "# of information.\n",
    "user_0 = build_profile('albert', 'einstein',\n",
    " location='princeton')\n",
    "user_1 = build_profile('marie', 'curie',\n",
    " location='paris', field='chemistry')\n",
    "print(user_0)\n",
    "print(user_1)"
   ]
  },
  {
   "cell_type": "markdown",
   "metadata": {},
   "source": [
    "### file"
   ]
  },
  {
   "cell_type": "code",
   "execution_count": null,
   "metadata": {},
   "outputs": [],
   "source": [
    "filename = 'Data Modeling.ipynb'\n",
    "with open(filename) as f_obj:\n",
    "#    contents = f_obj.read() #read all\n",
    "#     lines = f_obj.readlines() #store line in list\n",
    "    for line in f_obj:\n",
    "        print(line.rstrip())\n",
    "        \n",
    "with open(filename, 'w') as f: #'a' for append\n",
    " f.write(\"I love programming!\")"
   ]
  },
  {
   "cell_type": "code",
   "execution_count": null,
   "metadata": {},
   "outputs": [],
   "source": [
    "import json\n",
    "\n",
    "f_name = 'numbers.json'\n",
    "\n",
    "try:\n",
    " with open(f_name) as f_obj:\n",
    " numbers = json.load(f_obj)\n",
    "except FileNotFoundError:\n",
    " msg = \"Can’t find {0}.\".format(f_name)\n",
    " print(msg)\n",
    "else:\n",
    " print(numbers)"
   ]
  },
  {
   "cell_type": "code",
   "execution_count": null,
   "metadata": {},
   "outputs": [],
   "source": []
  },
  {
   "cell_type": "code",
   "execution_count": null,
   "metadata": {},
   "outputs": [],
   "source": []
  }
 ],
 "metadata": {
  "kernelspec": {
   "display_name": "Python 3",
   "language": "python",
   "name": "python3"
  },
  "language_info": {
   "codemirror_mode": {
    "name": "ipython",
    "version": 3
   },
   "file_extension": ".py",
   "mimetype": "text/x-python",
   "name": "python",
   "nbconvert_exporter": "python",
   "pygments_lexer": "ipython3",
   "version": "3.8.5"
  }
 },
 "nbformat": 4,
 "nbformat_minor": 4
}
